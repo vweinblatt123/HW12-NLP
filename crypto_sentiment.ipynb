{
 "cells": [
  {
   "cell_type": "markdown",
   "metadata": {},
   "source": [
    "# Unit 12 - Tales from the Crypto\n",
    "\n",
    "---\n"
   ]
  },
  {
   "cell_type": "markdown",
   "metadata": {},
   "source": [
    "## 1. Sentiment Analysis\n",
    "\n",
    "Use the [newsapi](https://newsapi.org/) to pull the latest news articles for Bitcoin and Ethereum and create a DataFrame of sentiment scores for each coin.\n",
    "\n",
    "Use descriptive statistics to answer the following questions:\n",
    "1. Which coin had the highest mean positive score?\n",
    "2. Which coin had the highest negative score?\n",
    "3. Which coin had the highest positive score?"
   ]
  },
  {
   "cell_type": "code",
   "execution_count": 1,
   "metadata": {},
   "outputs": [
    {
     "name": "stderr",
     "output_type": "stream",
     "text": [
      "[nltk_data] Downloading package vader_lexicon to\n",
      "[nltk_data]     C:\\Users\\Victor\\AppData\\Roaming\\nltk_data...\n",
      "[nltk_data]   Package vader_lexicon is already up-to-date!\n"
     ]
    }
   ],
   "source": [
    "# Initial imports\n",
    "import os\n",
    "import pandas as pd\n",
    "from dotenv import load_dotenv\n",
    "import nltk as nltk\n",
    "nltk.download('vader_lexicon')\n",
    "from nltk.sentiment.vader import SentimentIntensityAnalyzer\n",
    "analyzer = SentimentIntensityAnalyzer()\n",
    "\n",
    "%matplotlib inline"
   ]
  },
  {
   "cell_type": "code",
   "execution_count": 2,
   "metadata": {},
   "outputs": [],
   "source": [
    "# Read your api key environment variable\n",
    "load_dotenv(\"keys.env\")\n",
    "api_key = os.getenv(\"NEWS_API_KEY\")"
   ]
  },
  {
   "cell_type": "code",
   "execution_count": 3,
   "metadata": {},
   "outputs": [],
   "source": [
    "# Create a newsapi client\n",
    "from newsapi.newsapi_client import NewsApiClient\n",
    "newsapi = NewsApiClient(api_key=api_key)"
   ]
  },
  {
   "cell_type": "code",
   "execution_count": 4,
   "metadata": {},
   "outputs": [],
   "source": [
    "# Fetch the Bitcoin news articles\n",
    "bitcoin_headlines = newsapi.get_everything(q = \"bitcoin\", language = \"en\")"
   ]
  },
  {
   "cell_type": "code",
   "execution_count": 5,
   "metadata": {},
   "outputs": [],
   "source": [
    "# Fetch the Ethereum news articles\n",
    "ethereum_headlines = newsapi.get_everything(q = \"ethereum\", language = \"en\")"
   ]
  },
  {
   "cell_type": "code",
   "execution_count": 6,
   "metadata": {},
   "outputs": [],
   "source": [
    "def create_df(news):\n",
    "    articles = []\n",
    "    for article in news:\n",
    "        try:\n",
    "            title = article[\"title\"]\n",
    "            description = article[\"description\"]\n",
    "            text = article[\"content\"]\n",
    "            date = article[\"publishedAt\"][:10]\n",
    "\n",
    "            articles.append({\n",
    "                \"title\": title,\n",
    "                \"description\": description,\n",
    "                \"text\": text,\n",
    "                \"date\": date\n",
    "            })\n",
    "        except AttributeError:\n",
    "            pass\n",
    "\n",
    "    return pd.DataFrame(articles)"
   ]
  },
  {
   "cell_type": "code",
   "execution_count": 7,
   "metadata": {},
   "outputs": [],
   "source": [
    "bitcoin_df = create_df(bitcoin_headlines[\"articles\"])\n",
    "ethereum_df = create_df(ethereum_headlines[\"articles\"])"
   ]
  },
  {
   "cell_type": "code",
   "execution_count": 8,
   "metadata": {},
   "outputs": [],
   "source": [
    "def build_sent_score(df):\n",
    "    title_sent = {\n",
    "        \"title_compound\": [],\n",
    "        \"title_pos\": [],\n",
    "        \"title_neu\": [],\n",
    "        \"title_neg\": []\n",
    "    }\n",
    "    text_sent = {\n",
    "        \"text_compound\": [],\n",
    "        \"text_pos\": [],\n",
    "        \"text_neu\": [],\n",
    "        \"text_neg\": []\n",
    "    }\n",
    "\n",
    "    # Get sentiment for the text and the title\n",
    "    for index, row in df.iterrows():\n",
    "        try:\n",
    "            # Sentiment scoring with VADER\n",
    "            title_sentiment = analyzer.polarity_scores(row[\"title\"])\n",
    "            title_sent[\"title_compound\"].append(title_sentiment[\"compound\"])\n",
    "            title_sent[\"title_pos\"].append(title_sentiment[\"pos\"])\n",
    "            title_sent[\"title_neu\"].append(title_sentiment[\"neu\"])\n",
    "            title_sent[\"title_neg\"].append(title_sentiment[\"neg\"])\n",
    "            \n",
    "            if(row[\"text\"] != None):\n",
    "                text_sentiment = analyzer.polarity_scores(row[\"text\"])\n",
    "                text_sent[\"text_compound\"].append(text_sentiment[\"compound\"])\n",
    "                text_sent[\"text_pos\"].append(text_sentiment[\"pos\"])\n",
    "                text_sent[\"text_neu\"].append(text_sentiment[\"neu\"])\n",
    "                text_sent[\"text_neg\"].append(text_sentiment[\"neg\"])\n",
    "            else:\n",
    "                text_sent[\"text_compound\"].append(0)\n",
    "                text_sent[\"text_pos\"].append(0)\n",
    "                text_sent[\"text_neu\"].append(0)\n",
    "                text_sent[\"text_neg\"].append(0)\n",
    "        except AttributeError:\n",
    "            pass\n",
    "\n",
    "    # Attaching sentiment columns to the News DataFrame\n",
    "    title_sentiment_df = pd.DataFrame(title_sent)\n",
    "    text_sentiment_df = pd.DataFrame(text_sent)\n",
    "    new_df = df.join(title_sentiment_df).join(text_sentiment_df)\n",
    "\n",
    "    return new_df"
   ]
  },
  {
   "cell_type": "code",
   "execution_count": 9,
   "metadata": {},
   "outputs": [
    {
     "data": {
      "text/html": [
       "<div>\n",
       "<style scoped>\n",
       "    .dataframe tbody tr th:only-of-type {\n",
       "        vertical-align: middle;\n",
       "    }\n",
       "\n",
       "    .dataframe tbody tr th {\n",
       "        vertical-align: top;\n",
       "    }\n",
       "\n",
       "    .dataframe thead th {\n",
       "        text-align: right;\n",
       "    }\n",
       "</style>\n",
       "<table border=\"1\" class=\"dataframe\">\n",
       "  <thead>\n",
       "    <tr style=\"text-align: right;\">\n",
       "      <th></th>\n",
       "      <th>title</th>\n",
       "      <th>description</th>\n",
       "      <th>text</th>\n",
       "      <th>date</th>\n",
       "      <th>title_compound</th>\n",
       "      <th>title_pos</th>\n",
       "      <th>title_neu</th>\n",
       "      <th>title_neg</th>\n",
       "      <th>text_compound</th>\n",
       "      <th>text_pos</th>\n",
       "      <th>text_neu</th>\n",
       "      <th>text_neg</th>\n",
       "    </tr>\n",
       "  </thead>\n",
       "  <tbody>\n",
       "    <tr>\n",
       "      <th>0</th>\n",
       "      <td>India will reportedly introduce bill to make o...</td>\n",
       "      <td>India’s legislature is reportedly considering ...</td>\n",
       "      <td>One of the strictest crackdowns worldwide\\r\\nP...</td>\n",
       "      <td>2021-03-15</td>\n",
       "      <td>-0.5574</td>\n",
       "      <td>0.000</td>\n",
       "      <td>0.714</td>\n",
       "      <td>0.286</td>\n",
       "      <td>-0.5574</td>\n",
       "      <td>0.000</td>\n",
       "      <td>0.890</td>\n",
       "      <td>0.11</td>\n",
       "    </tr>\n",
       "    <tr>\n",
       "      <th>1</th>\n",
       "      <td>Is Bitcoin a safe bet?</td>\n",
       "      <td>The digital cryptocurrency Bitcoin has tripled...</td>\n",
       "      <td>None</td>\n",
       "      <td>2021-02-20</td>\n",
       "      <td>0.4404</td>\n",
       "      <td>0.492</td>\n",
       "      <td>0.508</td>\n",
       "      <td>0.000</td>\n",
       "      <td>0.0000</td>\n",
       "      <td>0.000</td>\n",
       "      <td>0.000</td>\n",
       "      <td>0.00</td>\n",
       "    </tr>\n",
       "    <tr>\n",
       "      <th>2</th>\n",
       "      <td>Coinbase says unmasking Satoshi Nakamoto might...</td>\n",
       "      <td>Some things are best left a mystery — at least...</td>\n",
       "      <td>Some things are best left a mystery at least a...</td>\n",
       "      <td>2021-02-26</td>\n",
       "      <td>-0.5423</td>\n",
       "      <td>0.000</td>\n",
       "      <td>0.696</td>\n",
       "      <td>0.304</td>\n",
       "      <td>0.6369</td>\n",
       "      <td>0.113</td>\n",
       "      <td>0.887</td>\n",
       "      <td>0.00</td>\n",
       "    </tr>\n",
       "    <tr>\n",
       "      <th>3</th>\n",
       "      <td>How bitcoin is like a teenager</td>\n",
       "      <td>With the value of bitcoin in the market toppin...</td>\n",
       "      <td>None</td>\n",
       "      <td>2021-02-21</td>\n",
       "      <td>0.3612</td>\n",
       "      <td>0.385</td>\n",
       "      <td>0.615</td>\n",
       "      <td>0.000</td>\n",
       "      <td>0.0000</td>\n",
       "      <td>0.000</td>\n",
       "      <td>0.000</td>\n",
       "      <td>0.00</td>\n",
       "    </tr>\n",
       "    <tr>\n",
       "      <th>4</th>\n",
       "      <td>Why bitcoin could triple over next year</td>\n",
       "      <td>William Quigley, managing director of Magnetic...</td>\n",
       "      <td></td>\n",
       "      <td>2021-03-03</td>\n",
       "      <td>0.0000</td>\n",
       "      <td>0.000</td>\n",
       "      <td>1.000</td>\n",
       "      <td>0.000</td>\n",
       "      <td>0.0000</td>\n",
       "      <td>0.000</td>\n",
       "      <td>0.000</td>\n",
       "      <td>0.00</td>\n",
       "    </tr>\n",
       "  </tbody>\n",
       "</table>\n",
       "</div>"
      ],
      "text/plain": [
       "                                               title  \\\n",
       "0  India will reportedly introduce bill to make o...   \n",
       "1                             Is Bitcoin a safe bet?   \n",
       "2  Coinbase says unmasking Satoshi Nakamoto might...   \n",
       "3                     How bitcoin is like a teenager   \n",
       "4            Why bitcoin could triple over next year   \n",
       "\n",
       "                                         description  \\\n",
       "0  India’s legislature is reportedly considering ...   \n",
       "1  The digital cryptocurrency Bitcoin has tripled...   \n",
       "2  Some things are best left a mystery — at least...   \n",
       "3  With the value of bitcoin in the market toppin...   \n",
       "4  William Quigley, managing director of Magnetic...   \n",
       "\n",
       "                                                text        date  \\\n",
       "0  One of the strictest crackdowns worldwide\\r\\nP...  2021-03-15   \n",
       "1                                               None  2021-02-20   \n",
       "2  Some things are best left a mystery at least a...  2021-02-26   \n",
       "3                                               None  2021-02-21   \n",
       "4                                                     2021-03-03   \n",
       "\n",
       "   title_compound  title_pos  title_neu  title_neg  text_compound  text_pos  \\\n",
       "0         -0.5574      0.000      0.714      0.286        -0.5574     0.000   \n",
       "1          0.4404      0.492      0.508      0.000         0.0000     0.000   \n",
       "2         -0.5423      0.000      0.696      0.304         0.6369     0.113   \n",
       "3          0.3612      0.385      0.615      0.000         0.0000     0.000   \n",
       "4          0.0000      0.000      1.000      0.000         0.0000     0.000   \n",
       "\n",
       "   text_neu  text_neg  \n",
       "0     0.890      0.11  \n",
       "1     0.000      0.00  \n",
       "2     0.887      0.00  \n",
       "3     0.000      0.00  \n",
       "4     0.000      0.00  "
      ]
     },
     "execution_count": 9,
     "metadata": {},
     "output_type": "execute_result"
    }
   ],
   "source": [
    "# Create the Bitcoin sentiment scores DataFrame\n",
    "bitcoin_sent = build_sent_score(bitcoin_df)\n",
    "bitcoin_sent.head()"
   ]
  },
  {
   "cell_type": "code",
   "execution_count": 10,
   "metadata": {},
   "outputs": [
    {
     "data": {
      "text/html": [
       "<div>\n",
       "<style scoped>\n",
       "    .dataframe tbody tr th:only-of-type {\n",
       "        vertical-align: middle;\n",
       "    }\n",
       "\n",
       "    .dataframe tbody tr th {\n",
       "        vertical-align: top;\n",
       "    }\n",
       "\n",
       "    .dataframe thead th {\n",
       "        text-align: right;\n",
       "    }\n",
       "</style>\n",
       "<table border=\"1\" class=\"dataframe\">\n",
       "  <thead>\n",
       "    <tr style=\"text-align: right;\">\n",
       "      <th></th>\n",
       "      <th>title</th>\n",
       "      <th>description</th>\n",
       "      <th>text</th>\n",
       "      <th>date</th>\n",
       "      <th>title_compound</th>\n",
       "      <th>title_pos</th>\n",
       "      <th>title_neu</th>\n",
       "      <th>title_neg</th>\n",
       "      <th>text_compound</th>\n",
       "      <th>text_pos</th>\n",
       "      <th>text_neu</th>\n",
       "      <th>text_neg</th>\n",
       "    </tr>\n",
       "  </thead>\n",
       "  <tbody>\n",
       "    <tr>\n",
       "      <th>0</th>\n",
       "      <td>The climate controversy swirling around NFTs</td>\n",
       "      <td>Most NFTs are bought and sold with Ethereum, a...</td>\n",
       "      <td>Famed auction house Christies just sold its fi...</td>\n",
       "      <td>2021-03-15</td>\n",
       "      <td>0.0000</td>\n",
       "      <td>0.0</td>\n",
       "      <td>1.000</td>\n",
       "      <td>0.000</td>\n",
       "      <td>0.0000</td>\n",
       "      <td>0.000</td>\n",
       "      <td>1.000</td>\n",
       "      <td>0.000</td>\n",
       "    </tr>\n",
       "    <tr>\n",
       "      <th>1</th>\n",
       "      <td>India will reportedly introduce bill to make o...</td>\n",
       "      <td>India’s legislature is reportedly considering ...</td>\n",
       "      <td>One of the strictest crackdowns worldwide\\r\\nP...</td>\n",
       "      <td>2021-03-15</td>\n",
       "      <td>-0.5574</td>\n",
       "      <td>0.0</td>\n",
       "      <td>0.714</td>\n",
       "      <td>0.286</td>\n",
       "      <td>-0.5574</td>\n",
       "      <td>0.000</td>\n",
       "      <td>0.890</td>\n",
       "      <td>0.110</td>\n",
       "    </tr>\n",
       "    <tr>\n",
       "      <th>2</th>\n",
       "      <td>NVIDIA limits RTX 3060 crypto speeds as it int...</td>\n",
       "      <td>Worried that the GeForce RTX 3060 will be sold...</td>\n",
       "      <td>Worried that the GeForce RTX 3060 will be sold...</td>\n",
       "      <td>2021-02-18</td>\n",
       "      <td>0.0000</td>\n",
       "      <td>0.0</td>\n",
       "      <td>1.000</td>\n",
       "      <td>0.000</td>\n",
       "      <td>-0.3400</td>\n",
       "      <td>0.063</td>\n",
       "      <td>0.818</td>\n",
       "      <td>0.119</td>\n",
       "    </tr>\n",
       "    <tr>\n",
       "      <th>3</th>\n",
       "      <td>What are NFTs? Everything you need to know.</td>\n",
       "      <td>NFTs are the latest cryptocurrency rage these ...</td>\n",
       "      <td>NFTs are the latest cryptocurrency rage these ...</td>\n",
       "      <td>2021-03-06</td>\n",
       "      <td>0.0000</td>\n",
       "      <td>0.0</td>\n",
       "      <td>1.000</td>\n",
       "      <td>0.000</td>\n",
       "      <td>-0.4588</td>\n",
       "      <td>0.066</td>\n",
       "      <td>0.789</td>\n",
       "      <td>0.145</td>\n",
       "    </tr>\n",
       "    <tr>\n",
       "      <th>4</th>\n",
       "      <td>If you haven’t followed NFTs, here’s why you s...</td>\n",
       "      <td>Digital content has value, and crypto collecto...</td>\n",
       "      <td>NFTs (non-fungible tokens) — or scarce digital...</td>\n",
       "      <td>2021-02-27</td>\n",
       "      <td>0.0000</td>\n",
       "      <td>0.0</td>\n",
       "      <td>1.000</td>\n",
       "      <td>0.000</td>\n",
       "      <td>0.4404</td>\n",
       "      <td>0.091</td>\n",
       "      <td>0.909</td>\n",
       "      <td>0.000</td>\n",
       "    </tr>\n",
       "  </tbody>\n",
       "</table>\n",
       "</div>"
      ],
      "text/plain": [
       "                                               title  \\\n",
       "0       The climate controversy swirling around NFTs   \n",
       "1  India will reportedly introduce bill to make o...   \n",
       "2  NVIDIA limits RTX 3060 crypto speeds as it int...   \n",
       "3        What are NFTs? Everything you need to know.   \n",
       "4  If you haven’t followed NFTs, here’s why you s...   \n",
       "\n",
       "                                         description  \\\n",
       "0  Most NFTs are bought and sold with Ethereum, a...   \n",
       "1  India’s legislature is reportedly considering ...   \n",
       "2  Worried that the GeForce RTX 3060 will be sold...   \n",
       "3  NFTs are the latest cryptocurrency rage these ...   \n",
       "4  Digital content has value, and crypto collecto...   \n",
       "\n",
       "                                                text        date  \\\n",
       "0  Famed auction house Christies just sold its fi...  2021-03-15   \n",
       "1  One of the strictest crackdowns worldwide\\r\\nP...  2021-03-15   \n",
       "2  Worried that the GeForce RTX 3060 will be sold...  2021-02-18   \n",
       "3  NFTs are the latest cryptocurrency rage these ...  2021-03-06   \n",
       "4  NFTs (non-fungible tokens) — or scarce digital...  2021-02-27   \n",
       "\n",
       "   title_compound  title_pos  title_neu  title_neg  text_compound  text_pos  \\\n",
       "0          0.0000        0.0      1.000      0.000         0.0000     0.000   \n",
       "1         -0.5574        0.0      0.714      0.286        -0.5574     0.000   \n",
       "2          0.0000        0.0      1.000      0.000        -0.3400     0.063   \n",
       "3          0.0000        0.0      1.000      0.000        -0.4588     0.066   \n",
       "4          0.0000        0.0      1.000      0.000         0.4404     0.091   \n",
       "\n",
       "   text_neu  text_neg  \n",
       "0     1.000     0.000  \n",
       "1     0.890     0.110  \n",
       "2     0.818     0.119  \n",
       "3     0.789     0.145  \n",
       "4     0.909     0.000  "
      ]
     },
     "execution_count": 10,
     "metadata": {},
     "output_type": "execute_result"
    }
   ],
   "source": [
    "# Create the Ethereum sentiment scores DataFrame\n",
    "ethereum_sent = build_sent_score(ethereum_df)\n",
    "ethereum_sent.head()"
   ]
  },
  {
   "cell_type": "code",
   "execution_count": 11,
   "metadata": {},
   "outputs": [
    {
     "data": {
      "text/html": [
       "<div>\n",
       "<style scoped>\n",
       "    .dataframe tbody tr th:only-of-type {\n",
       "        vertical-align: middle;\n",
       "    }\n",
       "\n",
       "    .dataframe tbody tr th {\n",
       "        vertical-align: top;\n",
       "    }\n",
       "\n",
       "    .dataframe thead th {\n",
       "        text-align: right;\n",
       "    }\n",
       "</style>\n",
       "<table border=\"1\" class=\"dataframe\">\n",
       "  <thead>\n",
       "    <tr style=\"text-align: right;\">\n",
       "      <th></th>\n",
       "      <th>title_compound</th>\n",
       "      <th>title_pos</th>\n",
       "      <th>title_neu</th>\n",
       "      <th>title_neg</th>\n",
       "      <th>text_compound</th>\n",
       "      <th>text_pos</th>\n",
       "      <th>text_neu</th>\n",
       "      <th>text_neg</th>\n",
       "    </tr>\n",
       "  </thead>\n",
       "  <tbody>\n",
       "    <tr>\n",
       "      <th>count</th>\n",
       "      <td>20.000000</td>\n",
       "      <td>20.000000</td>\n",
       "      <td>20.000000</td>\n",
       "      <td>20.000000</td>\n",
       "      <td>20.000000</td>\n",
       "      <td>20.000000</td>\n",
       "      <td>20.00000</td>\n",
       "      <td>20.000000</td>\n",
       "    </tr>\n",
       "    <tr>\n",
       "      <th>mean</th>\n",
       "      <td>0.001355</td>\n",
       "      <td>0.102400</td>\n",
       "      <td>0.837550</td>\n",
       "      <td>0.060050</td>\n",
       "      <td>0.177590</td>\n",
       "      <td>0.056700</td>\n",
       "      <td>0.77960</td>\n",
       "      <td>0.013750</td>\n",
       "    </tr>\n",
       "    <tr>\n",
       "      <th>std</th>\n",
       "      <td>0.347880</td>\n",
       "      <td>0.167874</td>\n",
       "      <td>0.165275</td>\n",
       "      <td>0.109908</td>\n",
       "      <td>0.379035</td>\n",
       "      <td>0.070933</td>\n",
       "      <td>0.34236</td>\n",
       "      <td>0.034216</td>\n",
       "    </tr>\n",
       "    <tr>\n",
       "      <th>min</th>\n",
       "      <td>-0.557400</td>\n",
       "      <td>0.000000</td>\n",
       "      <td>0.508000</td>\n",
       "      <td>0.000000</td>\n",
       "      <td>-0.557400</td>\n",
       "      <td>0.000000</td>\n",
       "      <td>0.00000</td>\n",
       "      <td>0.000000</td>\n",
       "    </tr>\n",
       "    <tr>\n",
       "      <th>25%</th>\n",
       "      <td>-0.110100</td>\n",
       "      <td>0.000000</td>\n",
       "      <td>0.709500</td>\n",
       "      <td>0.000000</td>\n",
       "      <td>0.000000</td>\n",
       "      <td>0.000000</td>\n",
       "      <td>0.85075</td>\n",
       "      <td>0.000000</td>\n",
       "    </tr>\n",
       "    <tr>\n",
       "      <th>50%</th>\n",
       "      <td>0.000000</td>\n",
       "      <td>0.000000</td>\n",
       "      <td>0.816500</td>\n",
       "      <td>0.000000</td>\n",
       "      <td>0.000000</td>\n",
       "      <td>0.021000</td>\n",
       "      <td>0.90100</td>\n",
       "      <td>0.000000</td>\n",
       "    </tr>\n",
       "    <tr>\n",
       "      <th>75%</th>\n",
       "      <td>0.323650</td>\n",
       "      <td>0.233000</td>\n",
       "      <td>1.000000</td>\n",
       "      <td>0.041750</td>\n",
       "      <td>0.480150</td>\n",
       "      <td>0.094250</td>\n",
       "      <td>0.96850</td>\n",
       "      <td>0.000000</td>\n",
       "    </tr>\n",
       "    <tr>\n",
       "      <th>max</th>\n",
       "      <td>0.585900</td>\n",
       "      <td>0.492000</td>\n",
       "      <td>1.000000</td>\n",
       "      <td>0.304000</td>\n",
       "      <td>0.831600</td>\n",
       "      <td>0.246000</td>\n",
       "      <td>1.00000</td>\n",
       "      <td>0.110000</td>\n",
       "    </tr>\n",
       "  </tbody>\n",
       "</table>\n",
       "</div>"
      ],
      "text/plain": [
       "       title_compound  title_pos  title_neu  title_neg  text_compound  \\\n",
       "count       20.000000  20.000000  20.000000  20.000000      20.000000   \n",
       "mean         0.001355   0.102400   0.837550   0.060050       0.177590   \n",
       "std          0.347880   0.167874   0.165275   0.109908       0.379035   \n",
       "min         -0.557400   0.000000   0.508000   0.000000      -0.557400   \n",
       "25%         -0.110100   0.000000   0.709500   0.000000       0.000000   \n",
       "50%          0.000000   0.000000   0.816500   0.000000       0.000000   \n",
       "75%          0.323650   0.233000   1.000000   0.041750       0.480150   \n",
       "max          0.585900   0.492000   1.000000   0.304000       0.831600   \n",
       "\n",
       "        text_pos  text_neu   text_neg  \n",
       "count  20.000000  20.00000  20.000000  \n",
       "mean    0.056700   0.77960   0.013750  \n",
       "std     0.070933   0.34236   0.034216  \n",
       "min     0.000000   0.00000   0.000000  \n",
       "25%     0.000000   0.85075   0.000000  \n",
       "50%     0.021000   0.90100   0.000000  \n",
       "75%     0.094250   0.96850   0.000000  \n",
       "max     0.246000   1.00000   0.110000  "
      ]
     },
     "execution_count": 11,
     "metadata": {},
     "output_type": "execute_result"
    }
   ],
   "source": [
    "# Describe the Bitcoin Sentiment\n",
    "bitcoin_sent.describe()"
   ]
  },
  {
   "cell_type": "code",
   "execution_count": 12,
   "metadata": {},
   "outputs": [
    {
     "data": {
      "text/html": [
       "<div>\n",
       "<style scoped>\n",
       "    .dataframe tbody tr th:only-of-type {\n",
       "        vertical-align: middle;\n",
       "    }\n",
       "\n",
       "    .dataframe tbody tr th {\n",
       "        vertical-align: top;\n",
       "    }\n",
       "\n",
       "    .dataframe thead th {\n",
       "        text-align: right;\n",
       "    }\n",
       "</style>\n",
       "<table border=\"1\" class=\"dataframe\">\n",
       "  <thead>\n",
       "    <tr style=\"text-align: right;\">\n",
       "      <th></th>\n",
       "      <th>title_compound</th>\n",
       "      <th>title_pos</th>\n",
       "      <th>title_neu</th>\n",
       "      <th>title_neg</th>\n",
       "      <th>text_compound</th>\n",
       "      <th>text_pos</th>\n",
       "      <th>text_neu</th>\n",
       "      <th>text_neg</th>\n",
       "    </tr>\n",
       "  </thead>\n",
       "  <tbody>\n",
       "    <tr>\n",
       "      <th>count</th>\n",
       "      <td>20.000000</td>\n",
       "      <td>20.000000</td>\n",
       "      <td>20.000000</td>\n",
       "      <td>20.000000</td>\n",
       "      <td>20.000000</td>\n",
       "      <td>20.00000</td>\n",
       "      <td>20.000000</td>\n",
       "      <td>20.000000</td>\n",
       "    </tr>\n",
       "    <tr>\n",
       "      <th>mean</th>\n",
       "      <td>-0.016890</td>\n",
       "      <td>0.054650</td>\n",
       "      <td>0.869900</td>\n",
       "      <td>0.075450</td>\n",
       "      <td>0.176605</td>\n",
       "      <td>0.07420</td>\n",
       "      <td>0.896400</td>\n",
       "      <td>0.029450</td>\n",
       "    </tr>\n",
       "    <tr>\n",
       "      <th>std</th>\n",
       "      <td>0.307387</td>\n",
       "      <td>0.122257</td>\n",
       "      <td>0.165468</td>\n",
       "      <td>0.136316</td>\n",
       "      <td>0.417940</td>\n",
       "      <td>0.06262</td>\n",
       "      <td>0.068489</td>\n",
       "      <td>0.049446</td>\n",
       "    </tr>\n",
       "    <tr>\n",
       "      <th>min</th>\n",
       "      <td>-0.557400</td>\n",
       "      <td>0.000000</td>\n",
       "      <td>0.526000</td>\n",
       "      <td>0.000000</td>\n",
       "      <td>-0.557400</td>\n",
       "      <td>0.00000</td>\n",
       "      <td>0.754000</td>\n",
       "      <td>0.000000</td>\n",
       "    </tr>\n",
       "    <tr>\n",
       "      <th>25%</th>\n",
       "      <td>-0.128000</td>\n",
       "      <td>0.000000</td>\n",
       "      <td>0.720750</td>\n",
       "      <td>0.000000</td>\n",
       "      <td>-0.062500</td>\n",
       "      <td>0.02250</td>\n",
       "      <td>0.859750</td>\n",
       "      <td>0.000000</td>\n",
       "    </tr>\n",
       "    <tr>\n",
       "      <th>50%</th>\n",
       "      <td>0.000000</td>\n",
       "      <td>0.000000</td>\n",
       "      <td>1.000000</td>\n",
       "      <td>0.000000</td>\n",
       "      <td>0.296000</td>\n",
       "      <td>0.06950</td>\n",
       "      <td>0.899500</td>\n",
       "      <td>0.000000</td>\n",
       "    </tr>\n",
       "    <tr>\n",
       "      <th>75%</th>\n",
       "      <td>0.000000</td>\n",
       "      <td>0.000000</td>\n",
       "      <td>1.000000</td>\n",
       "      <td>0.130000</td>\n",
       "      <td>0.473275</td>\n",
       "      <td>0.09650</td>\n",
       "      <td>0.931500</td>\n",
       "      <td>0.054000</td>\n",
       "    </tr>\n",
       "    <tr>\n",
       "      <th>max</th>\n",
       "      <td>0.718400</td>\n",
       "      <td>0.429000</td>\n",
       "      <td>1.000000</td>\n",
       "      <td>0.474000</td>\n",
       "      <td>0.831600</td>\n",
       "      <td>0.24600</td>\n",
       "      <td>1.000000</td>\n",
       "      <td>0.145000</td>\n",
       "    </tr>\n",
       "  </tbody>\n",
       "</table>\n",
       "</div>"
      ],
      "text/plain": [
       "       title_compound  title_pos  title_neu  title_neg  text_compound  \\\n",
       "count       20.000000  20.000000  20.000000  20.000000      20.000000   \n",
       "mean        -0.016890   0.054650   0.869900   0.075450       0.176605   \n",
       "std          0.307387   0.122257   0.165468   0.136316       0.417940   \n",
       "min         -0.557400   0.000000   0.526000   0.000000      -0.557400   \n",
       "25%         -0.128000   0.000000   0.720750   0.000000      -0.062500   \n",
       "50%          0.000000   0.000000   1.000000   0.000000       0.296000   \n",
       "75%          0.000000   0.000000   1.000000   0.130000       0.473275   \n",
       "max          0.718400   0.429000   1.000000   0.474000       0.831600   \n",
       "\n",
       "       text_pos   text_neu   text_neg  \n",
       "count  20.00000  20.000000  20.000000  \n",
       "mean    0.07420   0.896400   0.029450  \n",
       "std     0.06262   0.068489   0.049446  \n",
       "min     0.00000   0.754000   0.000000  \n",
       "25%     0.02250   0.859750   0.000000  \n",
       "50%     0.06950   0.899500   0.000000  \n",
       "75%     0.09650   0.931500   0.054000  \n",
       "max     0.24600   1.000000   0.145000  "
      ]
     },
     "execution_count": 12,
     "metadata": {},
     "output_type": "execute_result"
    }
   ],
   "source": [
    "# Describe the Ethereum Sentiment\n",
    "ethereum_sent.describe()"
   ]
  },
  {
   "cell_type": "markdown",
   "metadata": {},
   "source": [
    "### Questions:\n",
    "\n",
    "Q: Which coin had the highest mean positive score?\n",
    "\n",
    "A: Based on headlines (titles), Bitcoin has the highest mean positive sentiment score (0.102 vs 0.054), but based on body text, Ethereum has the higher mean positive score (0.074 vs 0.057).\n",
    "\n",
    "Q: Which coin had the highest compound score?\n",
    "\n",
    "A: Based on both headlines (0.001 vs -0.017) and body (0.178 vs 0.177), Bitcoin has the highest compound score.\n",
    "\n",
    "Q. Which coin had the highest negative score?\n",
    "\n",
    "A: Based on both headlines ("
   ]
  },
  {
   "cell_type": "markdown",
   "metadata": {},
   "source": [
    "---"
   ]
  },
  {
   "cell_type": "markdown",
   "metadata": {},
   "source": [
    "## 2. Natural Language Processing\n",
    "---\n",
    "###   Tokenizer\n",
    "\n",
    "In this section, you will use NLTK and Python to tokenize the text for each coin. Be sure to:\n",
    "1. Lowercase each word.\n",
    "2. Remove Punctuation.\n",
    "3. Remove Stopwords."
   ]
  },
  {
   "cell_type": "code",
   "execution_count": 10,
   "metadata": {},
   "outputs": [],
   "source": [
    "from nltk.tokenize import word_tokenize, sent_tokenize\n",
    "from nltk.corpus import stopwords\n",
    "from nltk.stem import WordNetLemmatizer, PorterStemmer\n",
    "from string import punctuation\n",
    "import re"
   ]
  },
  {
   "cell_type": "code",
   "execution_count": 11,
   "metadata": {},
   "outputs": [],
   "source": [
    "# Instantiate the lemmatizer\n",
    "# YOUR CODE HERE!\n",
    "\n",
    "# Create a list of stopwords\n",
    "# YOUR CODE HERE!\n",
    "\n",
    "# Expand the default stopwords list if necessary\n",
    "# YOUR CODE HERE!"
   ]
  },
  {
   "cell_type": "code",
   "execution_count": 12,
   "metadata": {},
   "outputs": [],
   "source": [
    "# Complete the tokenizer function\n",
    "def tokenizer(text):\n",
    "    \"\"\"Tokenizes text.\"\"\"\n",
    "    \n",
    "    # Remove the punctuation from text\n",
    "\n",
    "   \n",
    "    # Create a tokenized list of the words\n",
    "    \n",
    "    \n",
    "    # Lemmatize words into root words\n",
    "\n",
    "   \n",
    "    # Convert the words to lowercase\n",
    "    \n",
    "    \n",
    "    # Remove the stop words\n",
    "    \n",
    "    \n",
    "    return tokens"
   ]
  },
  {
   "cell_type": "code",
   "execution_count": 13,
   "metadata": {},
   "outputs": [],
   "source": [
    "# Create a new tokens column for Bitcoin\n",
    "# YOUR CODE HERE!"
   ]
  },
  {
   "cell_type": "code",
   "execution_count": 14,
   "metadata": {},
   "outputs": [],
   "source": [
    "# Create a new tokens column for Ethereum\n",
    "# YOUR CODE HERE!"
   ]
  },
  {
   "cell_type": "markdown",
   "metadata": {},
   "source": [
    "---"
   ]
  },
  {
   "cell_type": "markdown",
   "metadata": {},
   "source": [
    "### NGrams and Frequency Analysis\n",
    "\n",
    "In this section you will look at the ngrams and word frequency for each coin. \n",
    "\n",
    "1. Use NLTK to produce the n-grams for N = 2. \n",
    "2. List the top 10 words for each coin. "
   ]
  },
  {
   "cell_type": "code",
   "execution_count": 15,
   "metadata": {},
   "outputs": [],
   "source": [
    "from collections import Counter\n",
    "from nltk import ngrams"
   ]
  },
  {
   "cell_type": "code",
   "execution_count": 16,
   "metadata": {},
   "outputs": [],
   "source": [
    "# Generate the Bitcoin N-grams where N=2\n",
    "# YOUR CODE HERE!"
   ]
  },
  {
   "cell_type": "code",
   "execution_count": 17,
   "metadata": {},
   "outputs": [],
   "source": [
    "# Generate the Ethereum N-grams where N=2\n",
    "# YOUR CODE HERE!"
   ]
  },
  {
   "cell_type": "code",
   "execution_count": 18,
   "metadata": {},
   "outputs": [],
   "source": [
    "# Function token_count generates the top 10 words for a given coin\n",
    "def token_count(tokens, N=3):\n",
    "    \"\"\"Returns the top N tokens from the frequency count\"\"\"\n",
    "    return Counter(tokens).most_common(N)"
   ]
  },
  {
   "cell_type": "code",
   "execution_count": 19,
   "metadata": {},
   "outputs": [],
   "source": [
    "# Use token_count to get the top 10 words for Bitcoin\n",
    "# YOUR CODE HERE!"
   ]
  },
  {
   "cell_type": "code",
   "execution_count": 20,
   "metadata": {},
   "outputs": [],
   "source": [
    "# Use token_count to get the top 10 words for Ethereum\n",
    "# YOUR CODE HERE!"
   ]
  },
  {
   "cell_type": "markdown",
   "metadata": {},
   "source": [
    "---"
   ]
  },
  {
   "cell_type": "markdown",
   "metadata": {},
   "source": [
    "### Word Clouds\n",
    "\n",
    "In this section, you will generate word clouds for each coin to summarize the news for each coin"
   ]
  },
  {
   "cell_type": "code",
   "execution_count": 21,
   "metadata": {},
   "outputs": [],
   "source": [
    "from wordcloud import WordCloud\n",
    "import matplotlib.pyplot as plt\n",
    "plt.style.use('seaborn-whitegrid')\n",
    "import matplotlib as mpl\n",
    "mpl.rcParams['figure.figsize'] = [20.0, 10.0]"
   ]
  },
  {
   "cell_type": "code",
   "execution_count": 22,
   "metadata": {},
   "outputs": [],
   "source": [
    "# Generate the Bitcoin word cloud\n",
    "# YOUR CODE HERE!"
   ]
  },
  {
   "cell_type": "code",
   "execution_count": 23,
   "metadata": {},
   "outputs": [],
   "source": [
    "# Generate the Ethereum word cloud\n",
    "# YOUR CODE HERE!"
   ]
  },
  {
   "cell_type": "markdown",
   "metadata": {},
   "source": [
    "---\n",
    "## 3. Named Entity Recognition\n",
    "\n",
    "In this section, you will build a named entity recognition model for both Bitcoin and Ethereum, then visualize the tags using SpaCy."
   ]
  },
  {
   "cell_type": "code",
   "execution_count": 24,
   "metadata": {},
   "outputs": [],
   "source": [
    "import spacy\n",
    "from spacy import displacy"
   ]
  },
  {
   "cell_type": "code",
   "execution_count": 25,
   "metadata": {},
   "outputs": [],
   "source": [
    "# Download the language model for SpaCy\n",
    "# !python -m spacy download en_core_web_sm"
   ]
  },
  {
   "cell_type": "code",
   "execution_count": 26,
   "metadata": {},
   "outputs": [],
   "source": [
    "# Load the spaCy model\n",
    "nlp = spacy.load('en_core_web_sm')"
   ]
  },
  {
   "cell_type": "markdown",
   "metadata": {},
   "source": [
    "---\n",
    "### Bitcoin NER"
   ]
  },
  {
   "cell_type": "code",
   "execution_count": 27,
   "metadata": {},
   "outputs": [],
   "source": [
    "# Concatenate all of the Bitcoin text together\n",
    "# YOUR CODE HERE!"
   ]
  },
  {
   "cell_type": "code",
   "execution_count": 28,
   "metadata": {},
   "outputs": [],
   "source": [
    "# Run the NER processor on all of the text\n",
    "# YOUR CODE HERE!\n",
    "\n",
    "# Add a title to the document\n",
    "# YOUR CODE HERE!"
   ]
  },
  {
   "cell_type": "code",
   "execution_count": 29,
   "metadata": {},
   "outputs": [],
   "source": [
    "# Render the visualization\n",
    "# YOUR CODE HERE!"
   ]
  },
  {
   "cell_type": "code",
   "execution_count": 30,
   "metadata": {},
   "outputs": [],
   "source": [
    "# List all Entities\n",
    "# YOUR CODE HERE!"
   ]
  },
  {
   "cell_type": "markdown",
   "metadata": {},
   "source": [
    "---"
   ]
  },
  {
   "cell_type": "markdown",
   "metadata": {},
   "source": [
    "### Ethereum NER"
   ]
  },
  {
   "cell_type": "code",
   "execution_count": 31,
   "metadata": {},
   "outputs": [],
   "source": [
    "# Concatenate all of the Ethereum text together\n",
    "# YOUR CODE HERE!"
   ]
  },
  {
   "cell_type": "code",
   "execution_count": 32,
   "metadata": {},
   "outputs": [],
   "source": [
    "# Run the NER processor on all of the text\n",
    "# YOUR CODE HERE!\n",
    "\n",
    "# Add a title to the document\n",
    "# YOUR CODE HERE!"
   ]
  },
  {
   "cell_type": "code",
   "execution_count": 33,
   "metadata": {},
   "outputs": [],
   "source": [
    "# Render the visualization\n",
    "# YOUR CODE HERE!"
   ]
  },
  {
   "cell_type": "code",
   "execution_count": 34,
   "metadata": {},
   "outputs": [],
   "source": [
    "# List all Entities\n",
    "# YOUR CODE HERE!"
   ]
  },
  {
   "cell_type": "markdown",
   "metadata": {},
   "source": [
    "---"
   ]
  }
 ],
 "metadata": {
  "file_extension": ".py",
  "kernelspec": {
   "display_name": "Python 3",
   "language": "python",
   "name": "python3"
  },
  "language_info": {
   "codemirror_mode": {
    "name": "ipython",
    "version": 3
   },
   "file_extension": ".py",
   "mimetype": "text/x-python",
   "name": "python",
   "nbconvert_exporter": "python",
   "pygments_lexer": "ipython3",
   "version": "3.7.9"
  },
  "mimetype": "text/x-python",
  "name": "python",
  "npconvert_exporter": "python",
  "pygments_lexer": "ipython3",
  "version": 3
 },
 "nbformat": 4,
 "nbformat_minor": 4
}
